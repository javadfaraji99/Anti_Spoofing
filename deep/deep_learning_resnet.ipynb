{
  "nbformat": 4,
  "nbformat_minor": 0,
  "metadata": {
    "colab": {
      "provenance": [],
      "gpuType": "T4"
    },
    "kernelspec": {
      "name": "python3",
      "display_name": "Python 3"
    },
    "language_info": {
      "name": "python"
    },
    "accelerator": "GPU"
  },
  "cells": [
    {
      "cell_type": "code",
      "source": [
        "\n",
        "# IMPORTANT: RUN THIS CELL IN ORDER TO IMPORT YOUR KAGGLE DATA SOURCES\n",
        "# TO THE CORRECT LOCATION (/kaggle/input) IN YOUR NOTEBOOK,\n",
        "# THEN FEEL FREE TO DELETE THIS CELL.\n",
        "# NOTE: THIS NOTEBOOK ENVIRONMENT DIFFERS FROM KAGGLE'S PYTHON\n",
        "# ENVIRONMENT SO THERE MAY BE MISSING LIBRARIES USED BY YOUR\n",
        "# NOTEBOOK.\n",
        "\n",
        "import os\n",
        "import sys\n",
        "from tempfile import NamedTemporaryFile\n",
        "from urllib.request import urlopen\n",
        "from urllib.parse import unquote, urlparse\n",
        "from urllib.error import HTTPError\n",
        "from zipfile import ZipFile\n",
        "import tarfile\n",
        "import shutil\n",
        "\n",
        "CHUNK_SIZE = 40960\n",
        "DATA_SOURCE_MAPPING = 'lcc-fasd:https%3A%2F%2Fstorage.googleapis.com%2Fkaggle-data-sets%2F724551%2F1259264%2Fbundle%2Farchive.zip%3FX-Goog-Algorithm%3DGOOG4-RSA-SHA256%26X-Goog-Credential%3Dgcp-kaggle-com%2540kaggle-161607.iam.gserviceaccount.com%252F20240704%252Fauto%252Fstorage%252Fgoog4_request%26X-Goog-Date%3D20240704T144516Z%26X-Goog-Expires%3D259200%26X-Goog-SignedHeaders%3Dhost%26X-Goog-Signature%3D741e0826fbda4f60adc2c784b2b17ce6c402a9ad04bc567699eb9ee4e39aef773fe57404f3c35a41e1f0eafa7e1b59f812ccc1e1766a284fd78bc8712c518db5890bafe4b435beb696de2338f695f98829a28a119eae01717723bc51bdcab2caf28650fc29f6451fda28c0b23c447a60039fc85f26b8813e3cc48e845bdd9e92785af5a920e35ba14ece7cc8645936e280b7afb0410e2d4b20de6307878eca6b0f95f3573e3f70df98363014e57c4dc92ad41555c0a64e5160d80af81f5e98a156779d3fc913a170b0328f464b2dd3fc9f08b5d46ec999c0214d7bd6bd9fc20c51b13abfd56e2131bbe553af1a7980eff4df9405f932e800c2b537547e21788e'\n",
        "\n",
        "KAGGLE_INPUT_PATH='/kaggle/input'\n",
        "KAGGLE_WORKING_PATH='/kaggle/working'\n",
        "KAGGLE_SYMLINK='kaggle'\n",
        "\n",
        "!umount /kaggle/input/ 2> /dev/null\n",
        "shutil.rmtree('/kaggle/input', ignore_errors=True)\n",
        "os.makedirs(KAGGLE_INPUT_PATH, 0o777, exist_ok=True)\n",
        "os.makedirs(KAGGLE_WORKING_PATH, 0o777, exist_ok=True)\n",
        "\n",
        "try:\n",
        "  os.symlink(KAGGLE_INPUT_PATH, os.path.join(\"..\", 'input'), target_is_directory=True)\n",
        "except FileExistsError:\n",
        "  pass\n",
        "try:\n",
        "  os.symlink(KAGGLE_WORKING_PATH, os.path.join(\"..\", 'working'), target_is_directory=True)\n",
        "except FileExistsError:\n",
        "  pass\n",
        "\n",
        "for data_source_mapping in DATA_SOURCE_MAPPING.split(','):\n",
        "    directory, download_url_encoded = data_source_mapping.split(':')\n",
        "    download_url = unquote(download_url_encoded)\n",
        "    filename = urlparse(download_url).path\n",
        "    destination_path = os.path.join(KAGGLE_INPUT_PATH, directory)\n",
        "    try:\n",
        "        with urlopen(download_url) as fileres, NamedTemporaryFile() as tfile:\n",
        "            total_length = fileres.headers['content-length']\n",
        "            print(f'Downloading {directory}, {total_length} bytes compressed')\n",
        "            dl = 0\n",
        "            data = fileres.read(CHUNK_SIZE)\n",
        "            while len(data) > 0:\n",
        "                dl += len(data)\n",
        "                tfile.write(data)\n",
        "                done = int(50 * dl / int(total_length))\n",
        "                sys.stdout.write(f\"\\r[{'=' * done}{' ' * (50-done)}] {dl} bytes downloaded\")\n",
        "                sys.stdout.flush()\n",
        "                data = fileres.read(CHUNK_SIZE)\n",
        "            if filename.endswith('.zip'):\n",
        "              with ZipFile(tfile) as zfile:\n",
        "                zfile.extractall(destination_path)\n",
        "            else:\n",
        "              with tarfile.open(tfile.name) as tarfile:\n",
        "                tarfile.extractall(destination_path)\n",
        "            print(f'\\nDownloaded and uncompressed: {directory}')\n",
        "    except HTTPError as e:\n",
        "        print(f'Failed to load (likely expired) {download_url} to path {destination_path}')\n",
        "        continue\n",
        "    except OSError as e:\n",
        "        print(f'Failed to load {download_url} to path {destination_path}')\n",
        "        continue\n",
        "\n",
        "print('Data source import complete.')\n"
      ],
      "metadata": {
        "colab": {
          "base_uri": "https://localhost:8080/"
        },
        "id": "yeldoy05mHqI",
        "outputId": "9fab5132-3ba7-4e32-ac5e-a36a68ebbc92"
      },
      "execution_count": null,
      "outputs": [
        {
          "output_type": "stream",
          "name": "stdout",
          "text": [
            "Downloading lcc-fasd, 5196000412 bytes compressed\n",
            "[==================================================] 5196000412 bytes downloaded\n",
            "Downloaded and uncompressed: lcc-fasd\n",
            "Data source import complete.\n"
          ]
        }
      ]
    },
    {
      "cell_type": "code",
      "source": [
        "!cp -r /kaggle /content/drive/MyDrive"
      ],
      "metadata": {
        "id": "gi2PxB1UpB42"
      },
      "execution_count": null,
      "outputs": []
    },
    {
      "cell_type": "markdown",
      "source": [
        "# New Section"
      ],
      "metadata": {
        "id": "b5VDJvI-2sxt"
      }
    },
    {
      "cell_type": "code",
      "source": [
        "from tensorflow.keras.preprocessing import image_dataset_from_directory\n",
        "import tensorflow as tf\n",
        "import csv\n",
        "import time\n",
        "\n",
        "# Define paths to the dataset directories\n",
        "train_dir = '/content/drive/MyDrive/kaggle/input/lcc-fasd/LCC_FASD/LCC_FASD_training'\n",
        "dev_dir = '/content/drive/MyDrive/kaggle/input/lcc-fasd/LCC_FASD/LCC_FASD_development'\n",
        "test_dir = '/content/drive/MyDrive/kaggle/input/lcc-fasd/LCC_FASD/LCC_FASD_evaluation'\n",
        "\n",
        "# Load the datasets\n",
        "train_dataset = image_dataset_from_directory(\n",
        "    train_dir,\n",
        "    image_size=(224, 224),  # Adjust based on your model's input size\n",
        "    batch_size=32,\n",
        "    label_mode='binary'  # Use 'categorical' for binary classification with softmax\n",
        ")\n",
        "\n",
        "dev_dataset = image_dataset_from_directory(\n",
        "    dev_dir,\n",
        "    image_size=(224, 224),\n",
        "    batch_size=32,\n",
        "    label_mode='binary'\n",
        ")\n",
        "\n",
        "test_dataset = image_dataset_from_directory(\n",
        "    test_dir,\n",
        "    image_size=(224, 224),\n",
        "    batch_size=32,\n",
        "    label_mode='binary'\n",
        ")\n",
        "\n",
        "\n",
        "def write_into_csv(model_params):\n",
        "    #add extra info into end of model info in csv file\n",
        "    x = 0\n",
        "    with open(csv_file, 'a', newline='') as csvfile:\n",
        "        writer = csv.writer(csvfile)\n",
        "\n",
        "        # Write top-level key-value pairs\n",
        "        for key, value in model_params.items():\n",
        "            if x == 0:\n",
        "              writer.writerow([key, value])\n",
        "              x+=1\n",
        "            elif not isinstance(value, dict):  # Check if value is not a dictionary\n",
        "                writer.writerow([key, value])\n",
        "            else:  # Handle nested dictionary (data_augmentation)\n",
        "                for inner_key, inner_value in value.items():\n",
        "                    writer.writerow([key + '/' + inner_key, inner_value])\n",
        "\n",
        "\n",
        "model_number = int(input(\"enter your last model number: \"))\n",
        "csv_file = 'output.csv'\n",
        "model_params = {\n",
        "    \"epochs\": 7,\n",
        "    \"callbacks\": {\n",
        "        \"EarlyStopping\": {\"monitor\": \"val_loss\", \"patience\": 2},\n",
        "        \"ModelCheckpoint\": {\"filepath\": \"model_checkpoint.keras\", \"save_best_only\": True, \"monitor\": \"val_loss\", \"verbose\": 1},\n",
        "        \"CSVLogger\":{\"filename\":csv_file,\"separator\":\",\",\"append\":\"True\"}\n",
        "    }\n",
        "}\n",
        "\n",
        "callbacks = [\n",
        "    tf.keras.callbacks.EarlyStopping(**model_params['callbacks']['EarlyStopping']),\n",
        "    tf.keras.callbacks.ModelCheckpoint(**model_params['callbacks']['ModelCheckpoint']),\n",
        "    # tf.keras.callbacks.ReduceLROnPlateau(**model_params['callbacks']['ReduceLROnPlateau']),\n",
        "    # tf.keras.callbacks.LearningRateScheduler(**model_params['callbacks']['LearningRateScheduler']),\n",
        "    tf.keras.callbacks.CSVLogger(**model_params['callbacks']['CSVLogger']),\n",
        "    # tf.keras.callbacks.TerminateOnNaN()\n",
        "]\n",
        "write_into_csv({' ':' ','model number':model_number})\n"
      ],
      "metadata": {
        "colab": {
          "base_uri": "https://localhost:8080/"
        },
        "id": "s4TTKlrAowyv",
        "outputId": "e5efb1aa-2da3-4742-9169-431d62c72267"
      },
      "execution_count": 1,
      "outputs": [
        {
          "name": "stdout",
          "output_type": "stream",
          "text": [
            "Found 8299 files belonging to 2 classes.\n",
            "Found 2948 files belonging to 2 classes.\n",
            "Found 7580 files belonging to 2 classes.\n",
            "enter your last model number: 1\n"
          ]
        }
      ]
    },
    {
      "cell_type": "code",
      "execution_count": 4,
      "metadata": {
        "id": "6jVcti2Pb4J1"
      },
      "outputs": [],
      "source": [
        "from tensorflow.keras.applications import ResNet50\n",
        "from tensorflow.keras import layers, Model\n",
        "from tensorflow.keras.callbacks import EarlyStopping, ReduceLROnPlateau\n",
        "\n",
        "# Load a pre-trained model without the top layer\n",
        "base_model = ResNet50(weights='imagenet', include_top=False, input_shape=(224, 224, 3))\n",
        "\n",
        "# Freeze all layers\n",
        "for layer in base_model.layers:\n",
        "    layer.trainable = False\n",
        "\n",
        "# Specify the number of layers to unfreeze from the end\n",
        "num_layers_to_unfreeze = 10\n",
        "\n",
        "# Unfreeze the last `num_layers_to_unfreeze` layers\n",
        "for layer in base_model.layers[-num_layers_to_unfreeze:]:\n",
        "    layer.trainable = True\n",
        "\n",
        "# Add custom layers on top of the base model\n",
        "x = layers.GlobalAveragePooling2D()(base_model.output)\n",
        "x = layers.Dense(1024, activation='relu')(x)\n",
        "predictions = layers.Dense(1, activation='softmax')(x)  # Binary classification with softmax\n",
        "\n",
        "# Create the final model\n",
        "model = Model(inputs=base_model.input, outputs=predictions)\n",
        "\n",
        "# Compile the model\n",
        "model.compile(optimizer='adam', loss='binary_crossentropy', metrics=['accuracy'])\n",
        "\n",
        "early_stopping = EarlyStopping(monitor='val_loss', patience=5, restore_best_weights=True)\n",
        "\n",
        "# model.summary()"
      ]
    },
    {
      "cell_type": "code",
      "source": [
        "start_time = time.time()\n",
        "# Train the model\n",
        "history = model.fit(\n",
        "    train_dataset,\n",
        "    epochs=model_params['epochs'],\n",
        "    validation_data=dev_dataset,\n",
        "    callbacks=callbacks,\n",
        "    # verbose = 1,\n",
        "    # shuffle = True,\n",
        "\n",
        "\n",
        ")\n",
        "end_time = time.time()\n",
        "elapsed_time = end_time - start_time\n"
      ],
      "metadata": {
        "colab": {
          "base_uri": "https://localhost:8080/"
        },
        "id": "h42sHo6peIaQ",
        "outputId": "027cb197-14ec-4fb3-8e43-6b81b827261e"
      },
      "execution_count": 5,
      "outputs": [
        {
          "output_type": "stream",
          "name": "stdout",
          "text": [
            "Epoch 1/7\n",
            "260/260 [==============================] - 2127s 8s/step - loss: 0.1798 - accuracy: 0.8526 - val_loss: 0.2990 - val_accuracy: 0.8626\n",
            "Epoch 2/7\n",
            "260/260 [==============================] - 135s 509ms/step - loss: 0.0555 - accuracy: 0.8526 - val_loss: 0.2330 - val_accuracy: 0.8626\n",
            "Epoch 3/7\n",
            "260/260 [==============================] - 132s 495ms/step - loss: 0.0329 - accuracy: 0.8526 - val_loss: 0.2282 - val_accuracy: 0.8626\n",
            "Epoch 4/7\n",
            "260/260 [==============================] - 129s 485ms/step - loss: 0.0162 - accuracy: 0.8526 - val_loss: 0.3317 - val_accuracy: 0.8626\n",
            "Epoch 5/7\n",
            "260/260 [==============================] - 130s 484ms/step - loss: 0.0156 - accuracy: 0.8526 - val_loss: 0.2938 - val_accuracy: 0.8626\n"
          ]
        }
      ]
    },
    {
      "cell_type": "code",
      "source": [
        "model.save_weights('/content/drive/MyDrive/deep_learning_1.h5')"
      ],
      "metadata": {
        "id": "AD0i9m5kZhAn"
      },
      "execution_count": 10,
      "outputs": []
    },
    {
      "cell_type": "code",
      "source": [
        "import matplotlib.pyplot as plt\n",
        "best_val_acc = max(history.history['val_accuracy'])\n",
        "best_val_loss=min(history.history['val_loss'])\n",
        "print(f\"best Test accuracy: {best_val_acc} ,best test loss :{best_val_loss} \")\n",
        "write_into_csv({\"best test accuracy\":best_val_acc,\"best test loss\":best_val_loss,\"elapsed time\":elapsed_time})\n",
        "write_into_csv(model_params)\n",
        "for layer in model.layers:\n",
        "  layer_info = {\n",
        "  f\"Layer Type\":f\" {type(layer).__name__}\",\n",
        "  f\"Output Shape\":f\" {layer.output_shape}\",\n",
        "  f\"Number of Parameters\":f\"{layer.count_params()}\",\n",
        "  }\n",
        "  write_into_csv(layer_info)\n",
        "\n",
        "\n",
        "# Plot the training and validation loss and accuracy\n",
        "plt.figure(figsize=(8, 8))\n",
        "plt.subplot(2, 1, 1)\n",
        "plt.plot(history.history['accuracy'], label='Training Accuracy')\n",
        "plt.plot(history.history['val_accuracy'], label='Validation Accuracy')\n",
        "plt.legend(loc='lower right')\n",
        "plt.title('Training and Validation Accuracy')\n",
        "\n",
        "plt.subplot(2, 1, 2)\n",
        "plt.plot(history.history['loss'], label='Training Loss')\n",
        "plt.plot(history.history['val_loss'], label='Validation Loss')\n",
        "plt.legend(loc='upper right')\n",
        "plt.title('Training and Validation Loss')\n",
        "plt.xlabel('epoch')\n",
        "plt.savefig(f'plot_{model_number}.png')\n",
        "plt.show()\n",
        "\n",
        "# Evaluate the model on the test dataset\n",
        "test_loss, test_acc = model.evaluate(test_dataset)\n",
        "print(f'Test accuracy: {test_acc}')"
      ],
      "metadata": {
        "id": "kSw_w56l1gMw",
        "outputId": "b634052f-ca65-470a-f935-f0f1c58ecb16",
        "colab": {
          "base_uri": "https://localhost:8080/",
          "height": 772
        }
      },
      "execution_count": 7,
      "outputs": [
        {
          "output_type": "stream",
          "name": "stdout",
          "text": [
            "best Test accuracy: 0.8626187443733215 ,best test loss :0.2282092273235321 \n"
          ]
        },
        {
          "output_type": "display_data",
          "data": {
            "text/plain": [
              "<Figure size 800x800 with 2 Axes>"
            ],
            "image/png": "[encoded data removed]"
          },
          "metadata": {}
        },
        {
          "output_type": "stream",
          "name": "stdout",
          "text": [
            "237/237 [==============================] - 4646s 19s/step - loss: 0.1294 - accuracy: 0.9586\n",
            "Test accuracy: 0.9585751891136169\n"
          ]
        }
      ]
    },
    {
      "cell_type": "code",
      "source": [
        "from google.colab import files\n",
        "\n",
        "\n",
        "# Download the CSV file\n",
        "files.download(csv_file)\n",
        "\n",
        "# Download the image file\n",
        "files.download(f'plot_{model_number}.png')"
      ],
      "metadata": {
        "id": "JScyKkzJ1qMv",
        "outputId": "9418cbee-1b64-47d8-b543-a175dbed0333",
        "colab": {
          "base_uri": "https://localhost:8080/",
          "height": 17
        }
      },
      "execution_count": 8,
      "outputs": [
        {
          "output_type": "display_data",
          "data": {
            "text/plain": [
              "<IPython.core.display.Javascript object>"
            ],
            "application/javascript": [
              "\n",
              "    async function download(id, filename, size) {\n",
              "      if (!google.colab.kernel.accessAllowed) {\n",
              "        return;\n",
              "      }\n",
              "      const div = document.createElement('div');\n",
              "      const label = document.createElement('label');\n",
              "      label.textContent = `Downloading \"${filename}\": `;\n",
              "      div.appendChild(label);\n",
              "      const progress = document.createElement('progress');\n",
              "      progress.max = size;\n",
              "      div.appendChild(progress);\n",
              "      document.body.appendChild(div);\n",
              "\n",
              "      const buffers = [];\n",
              "      let downloaded = 0;\n",
              "\n",
              "      const channel = await google.colab.kernel.comms.open(id);\n",
              "      // Send a message to notify the kernel that we're ready.\n",
              "      channel.send({})\n",
              "\n",
              "      for await (const message of channel.messages) {\n",
              "        // Send a message to notify the kernel that we're ready.\n",
              "        channel.send({})\n",
              "        if (message.buffers) {\n",
              "          for (const buffer of message.buffers) {\n",
              "            buffers.push(buffer);\n",
              "            downloaded += buffer.byteLength;\n",
              "            progress.value = downloaded;\n",
              "          }\n",
              "        }\n",
              "      }\n",
              "      const blob = new Blob(buffers, {type: 'application/binary'});\n",
              "      const a = document.createElement('a');\n",
              "      a.href = window.URL.createObjectURL(blob);\n",
              "      a.download = filename;\n",
              "      div.appendChild(a);\n",
              "      a.click();\n",
              "      div.remove();\n",
              "    }\n",
              "  "
            ]
          },
          "metadata": {}
        },
        {
          "output_type": "display_data",
          "data": {
            "text/plain": [
              "<IPython.core.display.Javascript object>"
            ],
            "application/javascript": [
              "download(\"download_94b1af74-22c2-4288-8817-218413443bf6\", \"output.csv\", 32389)"
            ]
          },
          "metadata": {}
        },
        {
          "output_type": "display_data",
          "data": {
            "text/plain": [
              "<IPython.core.display.Javascript object>"
            ],
            "application/javascript": [
              "\n",
              "    async function download(id, filename, size) {\n",
              "      if (!google.colab.kernel.accessAllowed) {\n",
              "        return;\n",
              "      }\n",
              "      const div = document.createElement('div');\n",
              "      const label = document.createElement('label');\n",
              "      label.textContent = `Downloading \"${filename}\": `;\n",
              "      div.appendChild(label);\n",
              "      const progress = document.createElement('progress');\n",
              "      progress.max = size;\n",
              "      div.appendChild(progress);\n",
              "      document.body.appendChild(div);\n",
              "\n",
              "      const buffers = [];\n",
              "      let downloaded = 0;\n",
              "\n",
              "      const channel = await google.colab.kernel.comms.open(id);\n",
              "      // Send a message to notify the kernel that we're ready.\n",
              "      channel.send({})\n",
              "\n",
              "      for await (const message of channel.messages) {\n",
              "        // Send a message to notify the kernel that we're ready.\n",
              "        channel.send({})\n",
              "        if (message.buffers) {\n",
              "          for (const buffer of message.buffers) {\n",
              "            buffers.push(buffer);\n",
              "            downloaded += buffer.byteLength;\n",
              "            progress.value = downloaded;\n",
              "          }\n",
              "        }\n",
              "      }\n",
              "      const blob = new Blob(buffers, {type: 'application/binary'});\n",
              "      const a = document.createElement('a');\n",
              "      a.href = window.URL.createObjectURL(blob);\n",
              "      a.download = filename;\n",
              "      div.appendChild(a);\n",
              "      a.click();\n",
              "      div.remove();\n",
              "    }\n",
              "  "
            ]
          },
          "metadata": {}
        },
        {
          "output_type": "display_data",
          "data": {
            "text/plain": [
              "<IPython.core.display.Javascript object>"
            ],
            "application/javascript": [
              "download(\"download_4b526955-eb22-416c-af6f-bba69448b283\", \"plot_1.png\", 48969)"
            ]
          },
          "metadata": {}
        }
      ]
    }
  ]
}