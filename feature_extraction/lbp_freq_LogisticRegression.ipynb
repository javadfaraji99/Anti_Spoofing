{
  "cells": [
    {
      "cell_type": "code",
      "execution_count": 11,
      "metadata": {
        "colab": {
          "base_uri": "https://localhost:8080/"
        },
        "id": "mScko45xXh5O",
        "outputId": "76025940-7a58-476a-f7a0-42cd1036596a"
      },
      "outputs": [
        {
          "name": "stdout",
          "output_type": "stream",
          "text": [
            "Downloading lcc-fasd, 5196000412 bytes compressed\n",
            "[==================================================] 5196000412 bytes downloaded\n",
            "Downloaded and uncompressed: lcc-fasd\n",
            "Data source import complete.\n"
          ]
        }
      ],
      "source": [
        "\n",
        "# IMPORTANT: RUN THIS CELL IN ORDER TO IMPORT YOUR KAGGLE DATA SOURCES\n",
        "# TO THE CORRECT LOCATION (/kaggle/input) IN YOUR NOTEBOOK,\n",
        "# THEN FEEL FREE TO DELETE THIS CELL.\n",
        "# NOTE: THIS NOTEBOOK ENVIRONMENT DIFFERS FROM KAGGLE'S PYTHON\n",
        "# ENVIRONMENT SO THERE MAY BE MISSING LIBRARIES USED BY YOUR\n",
        "# NOTEBOOK.\n",
        "\n",
        "import os\n",
        "import sys\n",
        "from tempfile import NamedTemporaryFile\n",
        "from urllib.request import urlopen\n",
        "from urllib.parse import unquote, urlparse\n",
        "from urllib.error import HTTPError\n",
        "from zipfile import ZipFile\n",
        "import tarfile\n",
        "import shutil\n",
        "\n",
        "CHUNK_SIZE = 40960\n",
        "DATA_SOURCE_MAPPING = 'lcc-fasd:https%3A%2F%2Fstorage.googleapis.com%2Fkaggle-data-sets%2F724551%2F1259264%2Fbundle%2Farchive.zip%3FX-Goog-Algorithm%3DGOOG4-RSA-SHA256%26X-Goog-Credential%3Dgcp-kaggle-com%2540kaggle-161607.iam.gserviceaccount.com%252F20240704%252Fauto%252Fstorage%252Fgoog4_request%26X-Goog-Date%3D20240704T144516Z%26X-Goog-Expires%3D259200%26X-Goog-SignedHeaders%3Dhost%26X-Goog-Signature%3D741e0826fbda4f60adc2c784b2b17ce6c402a9ad04bc567699eb9ee4e39aef773fe57404f3c35a41e1f0eafa7e1b59f812ccc1e1766a284fd78bc8712c518db5890bafe4b435beb696de2338f695f98829a28a119eae01717723bc51bdcab2caf28650fc29f6451fda28c0b23c447a60039fc85f26b8813e3cc48e845bdd9e92785af5a920e35ba14ece7cc8645936e280b7afb0410e2d4b20de6307878eca6b0f95f3573e3f70df98363014e57c4dc92ad41555c0a64e5160d80af81f5e98a156779d3fc913a170b0328f464b2dd3fc9f08b5d46ec999c0214d7bd6bd9fc20c51b13abfd56e2131bbe553af1a7980eff4df9405f932e800c2b537547e21788e'\n",
        "\n",
        "KAGGLE_INPUT_PATH='/kaggle/input'\n",
        "KAGGLE_WORKING_PATH='/kaggle/working'\n",
        "KAGGLE_SYMLINK='kaggle'\n",
        "\n",
        "!umount /kaggle/input/ 2> /dev/null\n",
        "shutil.rmtree('/kaggle/input', ignore_errors=True)\n",
        "os.makedirs(KAGGLE_INPUT_PATH, 0o777, exist_ok=True)\n",
        "os.makedirs(KAGGLE_WORKING_PATH, 0o777, exist_ok=True)\n",
        "\n",
        "try:\n",
        "  os.symlink(KAGGLE_INPUT_PATH, os.path.join(\"..\", 'input'), target_is_directory=True)\n",
        "except FileExistsError:\n",
        "  pass\n",
        "try:\n",
        "  os.symlink(KAGGLE_WORKING_PATH, os.path.join(\"..\", 'working'), target_is_directory=True)\n",
        "except FileExistsError:\n",
        "  pass\n",
        "\n",
        "for data_source_mapping in DATA_SOURCE_MAPPING.split(','):\n",
        "    directory, download_url_encoded = data_source_mapping.split(':')\n",
        "    download_url = unquote(download_url_encoded)\n",
        "    filename = urlparse(download_url).path\n",
        "    destination_path = os.path.join(KAGGLE_INPUT_PATH, directory)\n",
        "    try:\n",
        "        with urlopen(download_url) as fileres, NamedTemporaryFile() as tfile:\n",
        "            total_length = fileres.headers['content-length']\n",
        "            print(f'Downloading {directory}, {total_length} bytes compressed')\n",
        "            dl = 0\n",
        "            data = fileres.read(CHUNK_SIZE)\n",
        "            while len(data) > 0:\n",
        "                dl += len(data)\n",
        "                tfile.write(data)\n",
        "                done = int(50 * dl / int(total_length))\n",
        "                sys.stdout.write(f\"\\r[{'=' * done}{' ' * (50-done)}] {dl} bytes downloaded\")\n",
        "                sys.stdout.flush()\n",
        "                data = fileres.read(CHUNK_SIZE)\n",
        "            if filename.endswith('.zip'):\n",
        "              with ZipFile(tfile) as zfile:\n",
        "                zfile.extractall(destination_path)\n",
        "            else:\n",
        "              with tarfile.open(tfile.name) as tarfile:\n",
        "                tarfile.extractall(destination_path)\n",
        "            print(f'\\nDownloaded and uncompressed: {directory}')\n",
        "    except HTTPError as e:\n",
        "        print(f'Failed to load (likely expired) {download_url} to path {destination_path}')\n",
        "        continue\n",
        "    except OSError as e:\n",
        "        print(f'Failed to load {download_url} to path {destination_path}')\n",
        "        continue\n",
        "\n",
        "print('Data source import complete.')\n"
      ]
    },
    {
      "cell_type": "code",
      "execution_count": 8,
      "metadata": {
        "id": "k0W9fZGdFt3C"
      },
      "outputs": [],
      "source": [
        "import numpy as np\n",
        "import matplotlib.pyplot as plt\n",
        "from sklearn.model_selection import train_test_split\n",
        "from sklearn.linear_model import LogisticRegression\n",
        "from sklearn.metrics import accuracy_score\n",
        "from tensorflow.keras.datasets import mnist\n",
        "import cv2\n",
        "from sklearn.metrics import precision_score, recall_score, f1_score, confusion_matrix, roc_auc_score, roc_curve\n",
        "import seaborn as sns\n",
        "\n",
        "import os\n",
        "from PIL import Image\n",
        "import matplotlib.pyplot as plt\n",
        "from collections import Counter\n",
        "import numpy as np\n",
        "\n",
        "import numpy as np\n",
        "import os\n",
        "from skimage.feature import local_binary_pattern\n",
        "from skimage.color import rgb2gray\n",
        "from skimage.io import imread\n",
        "from scipy.fft import fft2\n",
        "from sklearn.model_selection import train_test_split\n",
        "from sklearn.svm import SVC\n",
        "from sklearn.metrics import accuracy_score, classification_report\n",
        "\n",
        "import os\n",
        "from PIL import Image\n"
      ]
    },
    {
      "cell_type": "code",
      "execution_count": 9,
      "metadata": {
        "colab": {
          "base_uri": "https://localhost:8080/"
        },
        "id": "88TTZjeib8ll",
        "outputId": "c7d1ecf7-bc3a-4d9d-97c0-6cd2da215287"
      },
      "outputs": [
        {
          "name": "stdout",
          "output_type": "stream",
          "text": [
            "mv: cannot stat '/content/drive/MyDrive/kaggle/input/lcc-fasd/LCC_FASD/LCC_FASD_evaluation/real': No such file or directory\n"
          ]
        }
      ],
      "source": [
        "!cp  /content/drive/MyDrive/kaggle/input/lcc-fasd/LCC_FASD/LCC_FASD_evaluation/real /content"
      ]
    },
    {
      "cell_type": "code",
      "execution_count": 10,
      "metadata": {
        "colab": {
          "base_uri": "https://localhost:8080/"
        },
        "id": "hPehgeJd4WW7",
        "outputId": "663fd9c2-dc2c-4e5e-b07d-fe55069c7908"
      },
      "outputs": [
        {
          "name": "stdout",
          "output_type": "stream",
          "text": [
            "mv: cannot stat '/content/drive/MyDrive/kaggle/input/lcc-fasd/LCC_FASD/LCC_FASD_evaluation/spoof': No such file or directory\n"
          ]
        }
      ],
      "source": [
        "!cp  /content/drive/MyDrive/kaggle/input/lcc-fasd/LCC_FASD/LCC_FASD_evaluation/spoof /content"
      ]
    },
    {
      "cell_type": "markdown",
      "metadata": {
        "id": "5mIZDKL2rS7Z"
      },
      "source": [
        "GET HISTOGRAM OF ALL IMAGE SIZE AND CALCULATE BEST SIZE"
      ]
    },
    {
      "cell_type": "code",
      "execution_count": null,
      "metadata": {
        "id": "Zfh52_zsrWyC"
      },
      "outputs": [],
      "source": [
        "def get_image_sizes(directories):\n",
        "    sizes = []\n",
        "    for directory in directories:\n",
        "      for filename in os.listdir(directory):\n",
        "          if filename.lower().endswith(('.png', '.jpg', '.jpeg', '.bmp', '.tiff')):\n",
        "              try:\n",
        "                  with Image.open(os.path.join(directory, filename)) as img:\n",
        "                      sizes.append(img.size)\n",
        "              except Exception as e:\n",
        "                  print(f\"Failed to process {filename}: {e}\")\n",
        "    return sizes\n",
        "\n",
        "def plot_image_sizes(sizes):\n",
        "    size_counts = Counter(sizes)\n",
        "    sorted_sizes = sorted(size_counts.items(), key=lambda x: x[1])\n",
        "\n",
        "    unique_sizes = [size for size, count in sorted_sizes]\n",
        "    counts = [count for size, count in sorted_sizes]\n",
        "\n",
        "    # Prepare data for plotting\n",
        "    size_labels = [f\"{w}x{h}\" for w, h in unique_sizes]\n",
        "\n",
        "    # Plot\n",
        "    plt.figure(figsize=(30, 6))\n",
        "    plt.bar(size_labels, counts, color='skyblue')\n",
        "    plt.xlabel('Image Size (Width x Height)')\n",
        "    plt.ylabel('Frequency')\n",
        "    plt.title('Frequency of Each Image Size (Sorted by Count)')\n",
        "    plt.xticks(rotation=90)\n",
        "    plt.tight_layout()\n",
        "    plt.show()\n",
        "\n",
        "def weighted_mean_and_variance(sizes):\n",
        "    size_counts = Counter(sizes)\n",
        "    unique_sizes = list(size_counts.keys())\n",
        "    counts = np.array(list(size_counts.values()))\n",
        "\n",
        "    # Calculate weighted mean for width and height separately\n",
        "    widths, heights = zip(*unique_sizes)\n",
        "\n",
        "    mean_width = np.average(widths, weights=counts)\n",
        "    mean_height = np.average(heights, weights=counts)\n",
        "\n",
        "    # Calculate weighted variance for width and height separately\n",
        "    var_width = np.average((np.array(widths) - mean_width) ** 2, weights=counts)\n",
        "    var_height = np.average((np.array(heights) - mean_height) ** 2, weights=counts)\n",
        "\n",
        "    return (mean_width, mean_height), (var_width, var_height)\n",
        "\n",
        "def best_size_by_weighted_variance(sizes):\n",
        "    (mean_width, mean_height), (var_width, var_height) = weighted_mean_and_variance(sizes)\n",
        "\n",
        "    # Calculate total variance and select the size closest to the mean\n",
        "    total_variance = var_width + var_height\n",
        "    best_size = (int(mean_width), int(mean_height))  # Round to the nearest integer\n",
        "\n",
        "    return best_size, total_variance\n",
        "\n",
        "# Example usage\n",
        "# source_directory = '/content/LCC_FASD_training/spoof'\n",
        "# sizes = get_image_sizes([source_directory])\n",
        "# plot_image_sizes(sizes)\n",
        "\n",
        "# best_size, total_variance = best_size_by_weighted_variance(sizes)\n",
        "# print(f\"Best size based on weighted variance: {best_size}\")\n",
        "# print(f\"Total weighted variance: {total_variance}\")\n",
        "\n",
        "\n",
        "def resize_image(image_path, target_size):\n",
        "    # Open an image file\n",
        "    with Image.open(image_path) as img:\n",
        "        # Ensure the image is in RGB mode\n",
        "        if img.mode != 'RGB':\n",
        "            img = img.convert('RGB')\n",
        "        # Resize image using bicubic interpolation\n",
        "        img = img.resize(target_size, Image.BICUBIC)\n",
        "        return img\n",
        "\n",
        "def preprocess(source_dir, target_dir, target_size):\n",
        "    # Create the target directory if it does not exist\n",
        "    os.makedirs(target_dir, exist_ok=True)\n",
        "\n",
        "    # Get a list of all files in the source directory\n",
        "    for filename in os.listdir(source_dir):\n",
        "        # Construct full file path\n",
        "        file_path = os.path.join(source_dir, filename)\n",
        "\n",
        "        # Check if the file is an image (you can add more extensions if needed)\n",
        "        if filename.lower().endswith(('.png', '.jpg', '.jpeg', '.bmp', '.tiff')):\n",
        "            try:\n",
        "                # Resize the image\n",
        "                resized_image = resize_image(file_path, target_size)\n",
        "                # Save the resized image to the target directory\n",
        "                resized_image.save(os.path.join(target_dir, filename))\n",
        "                # print(f\"Resized and saved: {filename}\")\n",
        "            except Exception as e:\n",
        "                print(f\"Failed to process {filename}: {e}\")\n",
        "# Example usage\n",
        "# source_directory = '/content/data'\n",
        "# target_directory = '/content/pre_res'\n",
        "# target_size = best_size  # Set your desired target size here\n",
        "# preprocess(source_directory, target_directory, target_size)\n",
        "\n",
        "\n",
        "\n",
        "\n",
        "# Define parameters for LBP\n",
        "radius = 3\n",
        "n_points = 8 * radius\n",
        "METHOD = 'uniform'\n",
        "\n",
        "def extract_lbp_features(image):\n",
        "    gray_image = rgb2gray(image)\n",
        "    lbp = local_binary_pattern(gray_image, n_points, radius, METHOD)\n",
        "    hist, _ = np.histogram(lbp.ravel(), bins=np.arange(0, n_points + 3), range=(0, n_points + 2))\n",
        "    hist = hist.astype(\"float\")\n",
        "    hist /= (hist.sum() + 1e-7)  # Normalize the histogram\n",
        "    return hist\n",
        "\n",
        "def extract_frequency_features(image):\n",
        "    gray_image = rgb2gray(image)\n",
        "    f_transform = fft2(gray_image)\n",
        "    f_transform_magnitude = np.abs(f_transform)\n",
        "    f_transform_magnitude = f_transform_magnitude[:f_transform_magnitude.shape[0] // 2, :f_transform_magnitude.shape[1] // 2]\n",
        "    return f_transform_magnitude.ravel()\n",
        "\n",
        "def load_dataset(class1_dir, class2_dir):\n",
        "    origin_size =0\n",
        "    flag = True\n",
        "    features = []\n",
        "    labels = []\n",
        "    for label, class_dir in enumerate([class1_dir, class2_dir]):\n",
        "        for file_name in os.listdir(class_dir):\n",
        "            file_path = os.path.join(class_dir, file_name)\n",
        "            # print(file_path)\n",
        "            image = imread(file_path)\n",
        "            lbp_features = extract_lbp_features(image)\n",
        "            freq_features = extract_frequency_features(image)\n",
        "            combined_features = np.concatenate((lbp_features, freq_features))\n",
        "\n",
        "            if flag ==True:\n",
        "              origin_size = combined_features.shape\n",
        "            current_shape = combined_features.shape\n",
        "            if current_shape != origin_size:\n",
        "              print(f\"file_name:{file_path}\\nimage shape:{image.shape}\\norigin_size:{origin_size}\\nlbp shape:{lbp_features.shape}\\nfreq shape:{freq_features.shape}\\ncombine shape:{combined_features.shape}\\n\\n\\n\")\n",
        "              continue#if photo not in same size with another phot must ignore\n",
        "            features.append(combined_features)\n",
        "            # print(f\"file_name:{file_path}\\nimage shape:{image.shape}\\norigin_size:{origin_size}\\nlbp shape:{lbp_features.shape}\\nfreq shape:{freq_features.shape}\\ncombine shape:{combined_features.shape}\\n\\n\\n\")\n",
        "            labels.append(label)\n",
        "    return np.array(features), np.array(labels)"
      ]
    },
    {
      "cell_type": "markdown",
      "metadata": {
        "id": "3ll2ybd_9R66"
      },
      "source": [
        "# prepare to train"
      ]
    },
    {
      "cell_type": "code",
      "execution_count": 128,
      "metadata": {
        "id": "pSnkYSKO9Qtj"
      },
      "outputs": [],
      "source": [
        "# Directories containing images for two classes\n",
        "class1_dir = '/content/LCC_FASD_training/real'\n",
        "class2_dir = '/content/LCC_FASD_training/spoof'\n",
        "\n",
        "#get best size of all data set\n",
        "sizes = get_image_sizes([class1_dir,class2_dir])\n",
        "# plot_image_sizes(sizes)\n",
        "best_size, total_variance = best_size_by_weighted_variance(sizes)\n",
        "# Load dataset\n",
        "preprocess(class1_dir, \"/content/LCC_FASD_training/real2\", best_size)\n",
        "preprocess(class2_dir, \"/content/LCC_FASD_training/spoof2\", best_size)\n",
        "\n",
        "X, y = load_dataset(\"/content/LCC_FASD_training/real2\", \"/content/LCC_FASD_training/spoof2\")\n",
        "\n",
        "# Split the dataset\n",
        "X_train, X_test, y_train, y_test = train_test_split(X, y, test_size=0.2, random_state=42)"
      ]
    },
    {
      "cell_type": "code",
      "execution_count": 131,
      "metadata": {
        "colab": {
          "base_uri": "https://localhost:8080/",
          "height": 147
        },
        "id": "pULmjlFEXaIp",
        "outputId": "ba83d73c-e2f7-474e-e785-ad31060bd1fa"
      },
      "outputs": [
        {
          "name": "stdout",
          "output_type": "stream",
          "text": [
            "831\n",
            "(831, 67107)\n",
            "831\n",
            "(831,)\n"
          ]
        },
        {
          "data": {
            "text/html": [
              "<style>#sk-container-id-2 {color: black;background-color: white;}#sk-container-id-2 pre{padding: 0;}#sk-container-id-2 div.sk-toggleable {background-color: white;}#sk-container-id-2 label.sk-toggleable__label {cursor: pointer;display: block;width: 100%;margin-bottom: 0;padding: 0.3em;box-sizing: border-box;text-align: center;}#sk-container-id-2 label.sk-toggleable__label-arrow:before {content: \"▸\";float: left;margin-right: 0.25em;color: #696969;}#sk-container-id-2 label.sk-toggleable__label-arrow:hover:before {color: black;}#sk-container-id-2 div.sk-estimator:hover label.sk-toggleable__label-arrow:before {color: black;}#sk-container-id-2 div.sk-toggleable__content {max-height: 0;max-width: 0;overflow: hidden;text-align: left;background-color: #f0f8ff;}#sk-container-id-2 div.sk-toggleable__content pre {margin: 0.2em;color: black;border-radius: 0.25em;background-color: #f0f8ff;}#sk-container-id-2 input.sk-toggleable__control:checked~div.sk-toggleable__content {max-height: 200px;max-width: 100%;overflow: auto;}#sk-container-id-2 input.sk-toggleable__control:checked~label.sk-toggleable__label-arrow:before {content: \"▾\";}#sk-container-id-2 div.sk-estimator input.sk-toggleable__control:checked~label.sk-toggleable__label {background-color: #d4ebff;}#sk-container-id-2 div.sk-label input.sk-toggleable__control:checked~label.sk-toggleable__label {background-color: #d4ebff;}#sk-container-id-2 input.sk-hidden--visually {border: 0;clip: rect(1px 1px 1px 1px);clip: rect(1px, 1px, 1px, 1px);height: 1px;margin: -1px;overflow: hidden;padding: 0;position: absolute;width: 1px;}#sk-container-id-2 div.sk-estimator {font-family: monospace;background-color: #f0f8ff;border: 1px dotted black;border-radius: 0.25em;box-sizing: border-box;margin-bottom: 0.5em;}#sk-container-id-2 div.sk-estimator:hover {background-color: #d4ebff;}#sk-container-id-2 div.sk-parallel-item::after {content: \"\";width: 100%;border-bottom: 1px solid gray;flex-grow: 1;}#sk-container-id-2 div.sk-label:hover label.sk-toggleable__label {background-color: #d4ebff;}#sk-container-id-2 div.sk-serial::before {content: \"\";position: absolute;border-left: 1px solid gray;box-sizing: border-box;top: 0;bottom: 0;left: 50%;z-index: 0;}#sk-container-id-2 div.sk-serial {display: flex;flex-direction: column;align-items: center;background-color: white;padding-right: 0.2em;padding-left: 0.2em;position: relative;}#sk-container-id-2 div.sk-item {position: relative;z-index: 1;}#sk-container-id-2 div.sk-parallel {display: flex;align-items: stretch;justify-content: center;background-color: white;position: relative;}#sk-container-id-2 div.sk-item::before, #sk-container-id-2 div.sk-parallel-item::before {content: \"\";position: absolute;border-left: 1px solid gray;box-sizing: border-box;top: 0;bottom: 0;left: 50%;z-index: -1;}#sk-container-id-2 div.sk-parallel-item {display: flex;flex-direction: column;z-index: 1;position: relative;background-color: white;}#sk-container-id-2 div.sk-parallel-item:first-child::after {align-self: flex-end;width: 50%;}#sk-container-id-2 div.sk-parallel-item:last-child::after {align-self: flex-start;width: 50%;}#sk-container-id-2 div.sk-parallel-item:only-child::after {width: 0;}#sk-container-id-2 div.sk-dashed-wrapped {border: 1px dashed gray;margin: 0 0.4em 0.5em 0.4em;box-sizing: border-box;padding-bottom: 0.4em;background-color: white;}#sk-container-id-2 div.sk-label label {font-family: monospace;font-weight: bold;display: inline-block;line-height: 1.2em;}#sk-container-id-2 div.sk-label-container {text-align: center;}#sk-container-id-2 div.sk-container {/* jupyter's `normalize.less` sets `[hidden] { display: none; }` but bootstrap.min.css set `[hidden] { display: none !important; }` so we also need the `!important` here to be able to override the default hidden behavior on the sphinx rendered scikit-learn.org. See: https://github.com/scikit-learn/scikit-learn/issues/21755 */display: inline-block !important;position: relative;}#sk-container-id-2 div.sk-text-repr-fallback {display: none;}</style><div id=\"sk-container-id-2\" class=\"sk-top-container\"><div class=\"sk-text-repr-fallback\"><pre>LogisticRegression(max_iter=3000, verbose=1)</pre><b>In a Jupyter environment, please rerun this cell to show the HTML representation or trust the notebook. <br />On GitHub, the HTML representation is unable to render, please try loading this page with nbviewer.org.</b></div><div class=\"sk-container\" hidden><div class=\"sk-item\"><div class=\"sk-estimator sk-toggleable\"><input class=\"sk-toggleable__control sk-hidden--visually\" id=\"sk-estimator-id-2\" type=\"checkbox\" checked><label for=\"sk-estimator-id-2\" class=\"sk-toggleable__label sk-toggleable__label-arrow\">LogisticRegression</label><div class=\"sk-toggleable__content\"><pre>LogisticRegression(max_iter=3000, verbose=1)</pre></div></div></div></div></div>"
            ],
            "text/plain": [
              "LogisticRegression(max_iter=3000, verbose=1)"
            ]
          },
          "execution_count": 131,
          "metadata": {},
          "output_type": "execute_result"
        }
      ],
      "source": [
        "# Initialize and train logistic regression model\n",
        "model = LogisticRegression(max_iter=3000, verbose=1)\n",
        "model.fit(X_train, y_train)"
      ]
    },
    {
      "cell_type": "markdown",
      "metadata": {
        "id": "6dXklFr99e0c"
      },
      "source": [
        "# extract accuracy"
      ]
    },
    {
      "cell_type": "code",
      "execution_count": 132,
      "metadata": {
        "colab": {
          "base_uri": "https://localhost:8080/",
          "height": 637
        },
        "id": "OadMxhDY7eZm",
        "outputId": "ccf96e61-6130-46f0-934d-33aa54329c0f"
      },
      "outputs": [
        {
          "name": "stdout",
          "output_type": "stream",
          "text": [
            "Accuracy: 79.04%\n",
            "Precision: 79.86%\n",
            "Recall: 79.04%\n",
            "F1 Score: 79.42%\n"
          ]
        },
        {
          "data": {
            "image/png": "[encoded data removed]",
            "text/plain": [
              "<Figure size 800x600 with 2 Axes>"
            ]
          },
          "metadata": {},
          "output_type": "display_data"
        }
      ],
      "source": [
        "# Predict on test set\n",
        "y_pred = model.predict(X_test)\n",
        "\n",
        "# Calculate metrics\n",
        "accuracy = accuracy_score(y_test, y_pred)\n",
        "precision = precision_score(y_test, y_pred, average='weighted')\n",
        "recall = recall_score(y_test, y_pred, average='weighted')\n",
        "f1 = f1_score(y_test, y_pred, average='weighted')\n",
        "conf_matrix = confusion_matrix(y_test, y_pred)\n",
        "\n",
        "# Display metrics\n",
        "print(f\"Accuracy: {accuracy * 100:.2f}%\")\n",
        "print(f\"Precision: {precision * 100:.2f}%\")\n",
        "print(f\"Recall: {recall * 100:.2f}%\")\n",
        "print(f\"F1 Score: {f1 * 100:.2f}%\")\n",
        "\n",
        "# Plot confusion matrix\n",
        "plt.figure(figsize=(8, 6))\n",
        "sns.heatmap(conf_matrix, annot=True, fmt='d', cmap='Blues', xticklabels=[0, 1, 2], yticklabels=[0, 1, 2])\n",
        "plt.xlabel('Predicted Label')\n",
        "plt.ylabel('True Label')\n",
        "plt.title('Confusion Matrix')\n",
        "plt.show()"
      ]
    },
    {
      "cell_type": "markdown",
      "metadata": {
        "id": "iHSF-MljGvwe"
      },
      "source": [
        "# predict individually"
      ]
    },
    {
      "cell_type": "code",
      "execution_count": 155,
      "metadata": {
        "colab": {
          "base_uri": "https://localhost:8080/"
        },
        "id": "MfzgxTC2FaT1",
        "outputId": "633704c6-1278-48ee-a477-42379a433e7a"
      },
      "outputs": [
        {
          "name": "stdout",
          "output_type": "stream",
          "text": [
            "[1]\n"
          ]
        }
      ],
      "source": [
        "# print(X_test.shape)\n",
        "# print(X_test)\n",
        "# Predict on test set\n",
        "# image = imread(\"/content/LCC_FASD_training/real2/FT720P_id2_s0_105.png\")\n",
        "# image = imread(\"/content/LCC_FASD_training/spoof2/FT720P_G780_REDMI4X_id1_s1_175.png\")\n",
        "# image = imread(\"/content/LCC_FASD_training/spoof2/FT720P_G780_REDMI4X_id4_s0_30.png\")\n",
        "# image = imread(\"/content/LCC_FASD_training/real2/FT720P_id7_s0_30.png\")\n",
        "# image = imread(\"/content/3.jpg\")\n",
        "image = resize_image(\"/content/4.jpg\" , best_size)\n",
        "lbp_features = extract_lbp_features(image)\n",
        "freq_features = extract_frequency_features(image)\n",
        "combined_features = np.concatenate((lbp_features, freq_features))\n",
        "# print(np.array(1,combined_features).shape)\n",
        "y_pred = model.predict([combined_features])\n",
        "print(y_pred)\n",
        "\n"
      ]
    },
    {
      "cell_type": "code",
      "execution_count": 36,
      "metadata": {
        "id": "glezZs9w8PbP"
      },
      "outputs": [],
      "source": [
        "import os\n",
        "import random\n",
        "\n",
        "def delete_random_files(directory_path, delete_ratio):\n",
        "  \"\"\"\n",
        "  Deletes a random selection of files from a directory.\n",
        "\n",
        "  Args:\n",
        "      directory_path: Path to the directory containing files.\n",
        "      delete_ratio: Ratio of files to delete (between 0 and 1).\n",
        "  \"\"\"\n",
        "  files = os.listdir(directory_path)\n",
        "  num_files_to_delete = int(len(files) * delete_ratio)\n",
        "  random.shuffle(files)\n",
        "  files_to_delete = files[:num_files_to_delete]\n",
        "\n",
        "  for file in files_to_delete:\n",
        "    os.remove(os.path.join(directory_path, file))\n",
        "\n",
        "# Example usage (replace \"your_directory\" with the actual path)\n",
        "delete_random_files(\"/content/LCC_FASD_training/real\", 0.9)  # Delete 70% of files\n",
        "delete_random_files(\"/content/LCC_FASD_training/spoof\", 0.9)  # Delete 70% of files\n"
      ]
    }
  ],
  "metadata": {
    "colab": {
      "provenance": []
    },
    "kernelspec": {
      "display_name": "Python 3",
      "name": "python3"
    },
    "language_info": {
      "name": "python"
    }
  },
  "nbformat": 4,
  "nbformat_minor": 0
}
