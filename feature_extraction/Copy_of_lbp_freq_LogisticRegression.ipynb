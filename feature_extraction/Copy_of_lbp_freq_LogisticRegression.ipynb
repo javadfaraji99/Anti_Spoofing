{
  "cells": [
    {
      "cell_type": "code",
      "source": [
        "\n",
        "# IMPORTANT: RUN THIS CELL IN ORDER TO IMPORT YOUR KAGGLE DATA SOURCES\n",
        "# TO THE CORRECT LOCATION (/kaggle/input) IN YOUR NOTEBOOK,\n",
        "# THEN FEEL FREE TO DELETE THIS CELL.\n",
        "# NOTE: THIS NOTEBOOK ENVIRONMENT DIFFERS FROM KAGGLE'S PYTHON\n",
        "# ENVIRONMENT SO THERE MAY BE MISSING LIBRARIES USED BY YOUR\n",
        "# NOTEBOOK.\n",
        "\n",
        "import os\n",
        "import sys\n",
        "from tempfile import NamedTemporaryFile\n",
        "from urllib.request import urlopen\n",
        "from urllib.parse import unquote, urlparse\n",
        "from urllib.error import HTTPError\n",
        "from zipfile import ZipFile\n",
        "import tarfile\n",
        "import shutil\n",
        "\n",
        "CHUNK_SIZE = 40960\n",
        "DATA_SOURCE_MAPPING = 'lcc-fasd:https%3A%2F%2Fstorage.googleapis.com%2Fkaggle-data-sets%2F724551%2F1259264%2Fbundle%2Farchive.zip%3FX-Goog-Algorithm%3DGOOG4-RSA-SHA256%26X-Goog-Credential%3Dgcp-kaggle-com%2540kaggle-161607.iam.gserviceaccount.com%252F20240704%252Fauto%252Fstorage%252Fgoog4_request%26X-Goog-Date%3D20240704T144516Z%26X-Goog-Expires%3D259200%26X-Goog-SignedHeaders%3Dhost%26X-Goog-Signature%3D741e0826fbda4f60adc2c784b2b17ce6c402a9ad04bc567699eb9ee4e39aef773fe57404f3c35a41e1f0eafa7e1b59f812ccc1e1766a284fd78bc8712c518db5890bafe4b435beb696de2338f695f98829a28a119eae01717723bc51bdcab2caf28650fc29f6451fda28c0b23c447a60039fc85f26b8813e3cc48e845bdd9e92785af5a920e35ba14ece7cc8645936e280b7afb0410e2d4b20de6307878eca6b0f95f3573e3f70df98363014e57c4dc92ad41555c0a64e5160d80af81f5e98a156779d3fc913a170b0328f464b2dd3fc9f08b5d46ec999c0214d7bd6bd9fc20c51b13abfd56e2131bbe553af1a7980eff4df9405f932e800c2b537547e21788e'\n",
        "\n",
        "KAGGLE_INPUT_PATH='/kaggle/input'\n",
        "KAGGLE_WORKING_PATH='/kaggle/working'\n",
        "KAGGLE_SYMLINK='kaggle'\n",
        "\n",
        "!umount /kaggle/input/ 2> /dev/null\n",
        "shutil.rmtree('/kaggle/input', ignore_errors=True)\n",
        "os.makedirs(KAGGLE_INPUT_PATH, 0o777, exist_ok=True)\n",
        "os.makedirs(KAGGLE_WORKING_PATH, 0o777, exist_ok=True)\n",
        "\n",
        "try:\n",
        "  os.symlink(KAGGLE_INPUT_PATH, os.path.join(\"..\", 'input'), target_is_directory=True)\n",
        "except FileExistsError:\n",
        "  pass\n",
        "try:\n",
        "  os.symlink(KAGGLE_WORKING_PATH, os.path.join(\"..\", 'working'), target_is_directory=True)\n",
        "except FileExistsError:\n",
        "  pass\n",
        "\n",
        "for data_source_mapping in DATA_SOURCE_MAPPING.split(','):\n",
        "    directory, download_url_encoded = data_source_mapping.split(':')\n",
        "    download_url = unquote(download_url_encoded)\n",
        "    filename = urlparse(download_url).path\n",
        "    destination_path = os.path.join(KAGGLE_INPUT_PATH, directory)\n",
        "    try:\n",
        "        with urlopen(download_url) as fileres, NamedTemporaryFile() as tfile:\n",
        "            total_length = fileres.headers['content-length']\n",
        "            print(f'Downloading {directory}, {total_length} bytes compressed')\n",
        "            dl = 0\n",
        "            data = fileres.read(CHUNK_SIZE)\n",
        "            while len(data) > 0:\n",
        "                dl += len(data)\n",
        "                tfile.write(data)\n",
        "                done = int(50 * dl / int(total_length))\n",
        "                sys.stdout.write(f\"\\r[{'=' * done}{' ' * (50-done)}] {dl} bytes downloaded\")\n",
        "                sys.stdout.flush()\n",
        "                data = fileres.read(CHUNK_SIZE)\n",
        "            if filename.endswith('.zip'):\n",
        "              with ZipFile(tfile) as zfile:\n",
        "                zfile.extractall(destination_path)\n",
        "            else:\n",
        "              with tarfile.open(tfile.name) as tarfile:\n",
        "                tarfile.extractall(destination_path)\n",
        "            print(f'\\nDownloaded and uncompressed: {directory}')\n",
        "    except HTTPError as e:\n",
        "        print(f'Failed to load (likely expired) {download_url} to path {destination_path}')\n",
        "        continue\n",
        "    except OSError as e:\n",
        "        print(f'Failed to load {download_url} to path {destination_path}')\n",
        "        continue\n",
        "\n",
        "print('Data source import complete.')\n"
      ],
      "metadata": {
        "id": "mScko45xXh5O",
        "outputId": "76025940-7a58-476a-f7a0-42cd1036596a",
        "colab": {
          "base_uri": "https://localhost:8080/"
        }
      },
      "execution_count": null,
      "outputs": [
        {
          "output_type": "stream",
          "name": "stdout",
          "text": [
            "Downloading lcc-fasd, 5196000412 bytes compressed\n",
            "[==================================================] 5196000412 bytes downloaded\n",
            "Downloaded and uncompressed: lcc-fasd\n",
            "Data source import complete.\n"
          ]
        }
      ]
    },
    {
      "cell_type": "code",
      "source": [
        "import numpy as np\n",
        "import matplotlib.pyplot as plt\n",
        "from sklearn.model_selection import train_test_split\n",
        "from sklearn.linear_model import LogisticRegression\n",
        "from sklearn.metrics import accuracy_score\n",
        "from tensorflow.keras.datasets import mnist\n",
        "import cv2\n",
        "from sklearn.metrics import precision_score, recall_score, f1_score, confusion_matrix, roc_auc_score, roc_curve\n",
        "import seaborn as sns\n",
        "\n",
        "import os\n",
        "from PIL import Image\n",
        "import matplotlib.pyplot as plt\n",
        "from collections import Counter\n",
        "import numpy as np\n",
        "\n",
        "import numpy as np\n",
        "import os\n",
        "from skimage.feature import local_binary_pattern\n",
        "from skimage.color import rgb2gray\n",
        "from skimage.io import imread\n",
        "from scipy.fft import fft2\n",
        "from sklearn.model_selection import train_test_split\n",
        "from sklearn.svm import SVC\n",
        "from sklearn.metrics import accuracy_score, classification_report\n",
        "\n",
        "import os\n",
        "from PIL import Image\n"
      ],
      "metadata": {
        "id": "k0W9fZGdFt3C"
      },
      "execution_count": null,
      "outputs": []
    },
    {
      "cell_type": "markdown",
      "source": [
        "GET HISTOGRAM OF ALL IMAGE SIZE AND CALCULATE BEST SIZE"
      ],
      "metadata": {
        "id": "5mIZDKL2rS7Z"
      }
    },
    {
      "cell_type": "code",
      "source": [
        "\n",
        "\n",
        "def get_image_sizes(directories):\n",
        "    sizes = []\n",
        "    for directory in directories:\n",
        "      for filename in os.listdir(directory):\n",
        "          if filename.lower().endswith(('.png', '.jpg', '.jpeg', '.bmp', '.tiff')):\n",
        "              try:\n",
        "                  with Image.open(os.path.join(directory, filename)) as img:\n",
        "                      sizes.append(img.size)\n",
        "              except Exception as e:\n",
        "                  print(f\"Failed to process {filename}: {e}\")\n",
        "    return sizes\n",
        "\n",
        "def plot_image_sizes(sizes):\n",
        "    size_counts = Counter(sizes)\n",
        "    sorted_sizes = sorted(size_counts.items(), key=lambda x: x[1])\n",
        "\n",
        "    unique_sizes = [size for size, count in sorted_sizes]\n",
        "    counts = [count for size, count in sorted_sizes]\n",
        "\n",
        "    # Prepare data for plotting\n",
        "    size_labels = [f\"{w}x{h}\" for w, h in unique_sizes]\n",
        "\n",
        "    # Plot\n",
        "    plt.figure(figsize=(30, 6))\n",
        "    plt.bar(size_labels, counts, color='skyblue')\n",
        "    plt.xlabel('Image Size (Width x Height)')\n",
        "    plt.ylabel('Frequency')\n",
        "    plt.title('Frequency of Each Image Size (Sorted by Count)')\n",
        "    plt.xticks(rotation=90)\n",
        "    plt.tight_layout()\n",
        "    plt.show()\n",
        "\n",
        "def weighted_mean_and_variance(sizes):\n",
        "    size_counts = Counter(sizes)\n",
        "    unique_sizes = list(size_counts.keys())\n",
        "    counts = np.array(list(size_counts.values()))\n",
        "\n",
        "    # Calculate weighted mean for width and height separately\n",
        "    widths, heights = zip(*unique_sizes)\n",
        "\n",
        "    mean_width = np.average(widths, weights=counts)\n",
        "    mean_height = np.average(heights, weights=counts)\n",
        "\n",
        "    # Calculate weighted variance for width and height separately\n",
        "    var_width = np.average((np.array(widths) - mean_width) ** 2, weights=counts)\n",
        "    var_height = np.average((np.array(heights) - mean_height) ** 2, weights=counts)\n",
        "\n",
        "    return (mean_width, mean_height), (var_width, var_height)\n",
        "\n",
        "def best_size_by_weighted_variance(sizes):\n",
        "    (mean_width, mean_height), (var_width, var_height) = weighted_mean_and_variance(sizes)\n",
        "\n",
        "    # Calculate total variance and select the size closest to the mean\n",
        "    total_variance = var_width + var_height\n",
        "    best_size = (int(mean_width), int(mean_height))  # Round to the nearest integer\n",
        "\n",
        "    return best_size, total_variance\n",
        "\n",
        "# Example usage\n",
        "# source_directory = '/content/LCC_FASD_training/spoof'\n",
        "# sizes = get_image_sizes([source_directory])\n",
        "# plot_image_sizes(sizes)\n",
        "\n",
        "# best_size, total_variance = best_size_by_weighted_variance(sizes)\n",
        "# print(f\"Best size based on weighted variance: {best_size}\")\n",
        "# print(f\"Total weighted variance: {total_variance}\")"
      ],
      "metadata": {
        "id": "Zfh52_zsrWyC"
      },
      "execution_count": null,
      "outputs": []
    },
    {
      "cell_type": "code",
      "source": [
        "def resize_image(image_path, target_size):\n",
        "    # Open an image file\n",
        "    with Image.open(image_path) as img:\n",
        "        # Ensure the image is in RGB mode\n",
        "        if img.mode != 'RGB':\n",
        "            img = img.convert('RGB')\n",
        "        # Resize image using bicubic interpolation\n",
        "        img = img.resize(target_size, Image.BICUBIC)\n",
        "        return img\n",
        "\n",
        "def preprocess(source_dir, target_dir, target_size):\n",
        "    # Create the target directory if it does not exist\n",
        "    os.makedirs(target_dir, exist_ok=True)\n",
        "\n",
        "    # Get a list of all files in the source directory\n",
        "    for filename in os.listdir(source_dir):\n",
        "        # Construct full file path\n",
        "        file_path = os.path.join(source_dir, filename)\n",
        "\n",
        "        # Check if the file is an image (you can add more extensions if needed)\n",
        "        if filename.lower().endswith(('.png', '.jpg', '.jpeg', '.bmp', '.tiff')):\n",
        "            try:\n",
        "                # Resize the image\n",
        "                resized_image = resize_image(file_path, target_size)\n",
        "                # Save the resized image to the target directory\n",
        "                resized_image.save(os.path.join(target_dir, filename))\n",
        "                # print(f\"Resized and saved: {filename}\")\n",
        "            except Exception as e:\n",
        "                print(f\"Failed to process {filename}: {e}\")\n",
        "# Example usage\n",
        "# source_directory = '/content/data'\n",
        "# target_directory = '/content/pre_res'\n",
        "# target_size = best_size  # Set your desired target size here\n",
        "# preprocess(source_directory, target_directory, target_size)\n",
        "\n",
        "\n",
        "\n",
        "\n",
        "# Define parameters for LBP\n",
        "radius = 3\n",
        "n_points = 8 * radius\n",
        "METHOD = 'uniform'\n",
        "\n",
        "def extract_lbp_features(image):\n",
        "    gray_image = rgb2gray(image)\n",
        "    lbp = local_binary_pattern(gray_image, n_points, radius, METHOD)\n",
        "    hist, _ = np.histogram(lbp.ravel(), bins=np.arange(0, n_points + 3), range=(0, n_points + 2))\n",
        "    hist = hist.astype(\"float\")\n",
        "    hist /= (hist.sum() + 1e-7)  # Normalize the histogram\n",
        "    return hist\n",
        "\n",
        "def extract_frequency_features(image):\n",
        "    gray_image = rgb2gray(image)\n",
        "    f_transform = fft2(gray_image)\n",
        "    f_transform_magnitude = np.abs(f_transform)\n",
        "    f_transform_magnitude = f_transform_magnitude[:f_transform_magnitude.shape[0] // 2, :f_transform_magnitude.shape[1] // 2]\n",
        "    return f_transform_magnitude.ravel()\n",
        "\n",
        "def load_dataset(class1_dir, class2_dir):\n",
        "    origin_size =0\n",
        "    flag = True\n",
        "    features = []\n",
        "    labels = []\n",
        "    # Process each class directory\n",
        "    for label, class_dir in enumerate([class1_dir, class2_dir]):\n",
        "        # Get all file names in the class directory\n",
        "        file_names = os.listdir(class_dir)\n",
        "        # Shuffle the file names to ensure randomness\n",
        "        np.random.shuffle(file_names)\n",
        "        # Take the first half of the shuffled file names\n",
        "        half_files = file_names[:len(file_names) // 2]\n",
        "\n",
        "        for file_name in half_files:\n",
        "            file_path = os.path.join(class_dir, file_name)\n",
        "            image = imread(file_path)\n",
        "            lbp_features = extract_lbp_features(image)\n",
        "            freq_features = extract_frequency_features(image)\n",
        "            combined_features = np.concatenate((lbp_features, freq_features))\n",
        "            if flag ==True:\n",
        "              origin_size = combined_features.shape\n",
        "              flag = False\n",
        "            current_shape = combined_features.shape\n",
        "            if current_shape != origin_size:\n",
        "              print(f\"file_name:{file_path}\\nimage shape:{image.shape}\\norigin_size:{origin_size}\\nlbp shape:{lbp_features.shape}\\nfreq shape:{freq_features.shape}\\ncombine shape:{combined_features.shape}\\n\\n\\n\")\n",
        "              continue#if photo not in same size with another phot must ignore\n",
        "            features.append(combined_features)\n",
        "            # print(f\"file_name:{file_path}\\nimage shape:{image.shape}\\norigin_size:{origin_size}\\nlbp shape:{lbp_features.shape}\\nfreq shape:{freq_features.shape}\\ncombine shape:{combined_features.shape}\\n\\n\\n\")\n",
        "            labels.append(label)\n",
        "    return np.array(features), np.array(labels)\n"
      ],
      "metadata": {
        "id": "dz4O2AioIzS9"
      },
      "execution_count": null,
      "outputs": []
    },
    {
      "cell_type": "code",
      "source": [
        "# !cp /content/data/AA5742_id154_s0_112.png /content/data/real\n",
        "# !cp /content/data/q.png /content/data/spoof\n",
        "X,y = load_dataset(\"/content/data/real\" , \"/content/data/spoof\")\n",
        "print(f\"x:{X}\\ny:{y}\")"
      ],
      "metadata": {
        "colab": {
          "base_uri": "https://localhost:8080/"
        },
        "id": "pnTestsAI2fM",
        "outputId": "83a5ef7d-5c29-40a6-9fd9-a70014ba8071"
      },
      "execution_count": null,
      "outputs": [
        {
          "output_type": "stream",
          "name": "stdout",
          "text": [
            "x:[[0.0242524  0.00900892 0.01152263 ... 0.74459719 0.37375171 0.75237166]\n",
            " [0.02693073 0.01303841 0.01395405 ... 0.74423494 0.4957479  0.91812757]]\n",
            "y:[0 1]\n"
          ]
        }
      ]
    },
    {
      "cell_type": "markdown",
      "source": [
        "# half the data set because of limit for ram"
      ],
      "metadata": {
        "id": "3ll2ybd_9R66"
      }
    },
    {
      "cell_type": "code",
      "source": [
        "import os\n",
        "import shutil\n",
        "\n",
        "def transfer_half_files(source_dir, destination_dir):\n",
        "  \"\"\"\n",
        "  Transfers half of the files from a source directory to a destination directory.\n",
        "\n",
        "  Args:\n",
        "    source_dir: Path to the directory containing the files to transfer.\n",
        "    destination_dir: Path to the directory where half of the files will be transferred.\n",
        "  \"\"\"\n",
        "\n",
        "  # Get all files in the source directory\n",
        "  files = os.listdir(source_dir)\n",
        "\n",
        "  # Sort files alphabetically (optional)\n",
        "  files.sort()  # Sorts files alphabetically for deterministic transfer order\n",
        "\n",
        "  # Calculate the number of files to transfer (half)\n",
        "  num_files_to_transfer = len(files) // 2\n",
        "\n",
        "  # Transfer half of the files\n",
        "  for i in range(num_files_to_transfer):\n",
        "    file_name = files[i]\n",
        "    source_path = os.path.join(source_dir, file_name)\n",
        "    destination_path = os.path.join(destination_dir, file_name)\n",
        "    shutil.move(source_path, destination_path)\n",
        "    # print(f\"Transferred: {file_name}\")\n",
        "\n",
        "# Example usage\n",
        "source_dir = \"/content/drive/MyDrive/kaggle/input/lcc-fasd/LCC_FASD/LCC_FASD_evaluation/spoof\"\n",
        "destination_dir = \"/content/drive/MyDrive/kaggle/input/lcc-fasd/LCC_FASD/LCC_FASD_evaluation/half_spoof\"\n",
        "transfer_half_files(source_dir, destination_dir)\n"
      ],
      "metadata": {
        "id": "bW87sI2Tm6C1"
      },
      "execution_count": null,
      "outputs": []
    },
    {
      "cell_type": "markdown",
      "source": [
        "# train"
      ],
      "metadata": {
        "id": "FjpGagxavSKl"
      }
    },
    {
      "cell_type": "code",
      "source": [
        "# Directories containing images for two classes\n",
        "class1_dir = '/content/drive/MyDrive/kaggle/input/lcc-fasd/LCC_FASD/LCC_FASD_training/half_real'\n",
        "class2_dir = '/content/drive/MyDrive/kaggle/input/lcc-fasd/LCC_FASD/LCC_FASD_training/half_spoof'\n",
        "\n",
        "#get best size of all data set\n",
        "sizes = get_image_sizes([class1_dir,class2_dir])\n",
        "# plot_image_sizes(sizes)\n",
        "best_size, total_variance = best_size_by_weighted_variance(sizes)"
      ],
      "metadata": {
        "id": "wR9VRilOOZ-0"
      },
      "execution_count": null,
      "outputs": []
    },
    {
      "cell_type": "code",
      "source": [
        "\n",
        "# Load dataset\n",
        "target_folder_real = \"/content/LCC_FASD_training/real\"\n",
        "target_folder_spoof = \"/content/LCC_FASD_training/spoof\"\n",
        "preprocess(class1_dir, target_folder_real, best_size)\n",
        "preprocess(class2_dir, target_folder_spoof, best_size)\n",
        "\n",
        "X, y = load_dataset(target_folder_real, target_folder_spoof)\n",
        "\n",
        "# Split the dataset\n",
        "X_train, X_test, y_train, y_test = train_test_split(X, y, test_size=0.2, random_state=42)"
      ],
      "metadata": {
        "id": "pSnkYSKO9Qtj"
      },
      "execution_count": null,
      "outputs": []
    },
    {
      "cell_type": "code",
      "source": [
        "# print(len(X))\n",
        "# print((X.shape))\n",
        "# print(len(y))\n",
        "# print((y.shape))\n",
        "# count =[0,0]\n",
        "# for i in y:\n",
        "#   if i ==1:\n",
        "#     count[0]+=1\n",
        "#   elif i ==0:\n",
        "#     count[1]+=1\n",
        "# print(count)\n",
        "\n",
        "\n",
        "\n",
        "# Initialize and train logistic regression model\n",
        "model = LogisticRegression(max_iter=5000, verbose=1)\n",
        "model.fit(X_train, y_train)\n",
        "\n",
        "\n",
        "\n",
        "\n",
        "# Train a classifier (e.g., Support Vector Machine)\n",
        "# clf = SVC(kernel='linear')  # You can experiment with different kernels\n",
        "# clf.fit(X_train, y_train)\n",
        "\n",
        "# # Evaluate the classifier on the test data\n",
        "# y_pred = clf.predict(X_test)\n",
        "# accuracy = accuracy_score(y_test, y_pred)\n",
        "# print(f'Accuracy: {accuracy * 100:.2f}%')\n",
        "# print(classification_report(y_test, y_pred))\n",
        "\n",
        "\n",
        "# Use the test data as validation data\n",
        "# val_pred = clf.predict(X_test)\n",
        "# val_accuracy = accuracy_score(y_test, val_pred)\n",
        "# print(f'Validation Accuracy: {val_accuracy * 100:.2f}%')\n",
        "# print(classification_report(y_test, val_pred))\n"
      ],
      "metadata": {
        "id": "pULmjlFEXaIp",
        "outputId": "32d6b205-a80e-4ddb-da13-44159fc1ee85",
        "colab": {
          "base_uri": "https://localhost:8080/",
          "height": 74
        }
      },
      "execution_count": null,
      "outputs": [
        {
          "output_type": "execute_result",
          "data": {
            "text/plain": [
              "LogisticRegression(max_iter=5000, verbose=1)"
            ],
            "text/html": [
              "<style>#sk-container-id-2 {color: black;background-color: white;}#sk-container-id-2 pre{padding: 0;}#sk-container-id-2 div.sk-toggleable {background-color: white;}#sk-container-id-2 label.sk-toggleable__label {cursor: pointer;display: block;width: 100%;margin-bottom: 0;padding: 0.3em;box-sizing: border-box;text-align: center;}#sk-container-id-2 label.sk-toggleable__label-arrow:before {content: \"▸\";float: left;margin-right: 0.25em;color: #696969;}#sk-container-id-2 label.sk-toggleable__label-arrow:hover:before {color: black;}#sk-container-id-2 div.sk-estimator:hover label.sk-toggleable__label-arrow:before {color: black;}#sk-container-id-2 div.sk-toggleable__content {max-height: 0;max-width: 0;overflow: hidden;text-align: left;background-color: #f0f8ff;}#sk-container-id-2 div.sk-toggleable__content pre {margin: 0.2em;color: black;border-radius: 0.25em;background-color: #f0f8ff;}#sk-container-id-2 input.sk-toggleable__control:checked~div.sk-toggleable__content {max-height: 200px;max-width: 100%;overflow: auto;}#sk-container-id-2 input.sk-toggleable__control:checked~label.sk-toggleable__label-arrow:before {content: \"▾\";}#sk-container-id-2 div.sk-estimator input.sk-toggleable__control:checked~label.sk-toggleable__label {background-color: #d4ebff;}#sk-container-id-2 div.sk-label input.sk-toggleable__control:checked~label.sk-toggleable__label {background-color: #d4ebff;}#sk-container-id-2 input.sk-hidden--visually {border: 0;clip: rect(1px 1px 1px 1px);clip: rect(1px, 1px, 1px, 1px);height: 1px;margin: -1px;overflow: hidden;padding: 0;position: absolute;width: 1px;}#sk-container-id-2 div.sk-estimator {font-family: monospace;background-color: #f0f8ff;border: 1px dotted black;border-radius: 0.25em;box-sizing: border-box;margin-bottom: 0.5em;}#sk-container-id-2 div.sk-estimator:hover {background-color: #d4ebff;}#sk-container-id-2 div.sk-parallel-item::after {content: \"\";width: 100%;border-bottom: 1px solid gray;flex-grow: 1;}#sk-container-id-2 div.sk-label:hover label.sk-toggleable__label {background-color: #d4ebff;}#sk-container-id-2 div.sk-serial::before {content: \"\";position: absolute;border-left: 1px solid gray;box-sizing: border-box;top: 0;bottom: 0;left: 50%;z-index: 0;}#sk-container-id-2 div.sk-serial {display: flex;flex-direction: column;align-items: center;background-color: white;padding-right: 0.2em;padding-left: 0.2em;position: relative;}#sk-container-id-2 div.sk-item {position: relative;z-index: 1;}#sk-container-id-2 div.sk-parallel {display: flex;align-items: stretch;justify-content: center;background-color: white;position: relative;}#sk-container-id-2 div.sk-item::before, #sk-container-id-2 div.sk-parallel-item::before {content: \"\";position: absolute;border-left: 1px solid gray;box-sizing: border-box;top: 0;bottom: 0;left: 50%;z-index: -1;}#sk-container-id-2 div.sk-parallel-item {display: flex;flex-direction: column;z-index: 1;position: relative;background-color: white;}#sk-container-id-2 div.sk-parallel-item:first-child::after {align-self: flex-end;width: 50%;}#sk-container-id-2 div.sk-parallel-item:last-child::after {align-self: flex-start;width: 50%;}#sk-container-id-2 div.sk-parallel-item:only-child::after {width: 0;}#sk-container-id-2 div.sk-dashed-wrapped {border: 1px dashed gray;margin: 0 0.4em 0.5em 0.4em;box-sizing: border-box;padding-bottom: 0.4em;background-color: white;}#sk-container-id-2 div.sk-label label {font-family: monospace;font-weight: bold;display: inline-block;line-height: 1.2em;}#sk-container-id-2 div.sk-label-container {text-align: center;}#sk-container-id-2 div.sk-container {/* jupyter's `normalize.less` sets `[hidden] { display: none; }` but bootstrap.min.css set `[hidden] { display: none !important; }` so we also need the `!important` here to be able to override the default hidden behavior on the sphinx rendered scikit-learn.org. See: https://github.com/scikit-learn/scikit-learn/issues/21755 */display: inline-block !important;position: relative;}#sk-container-id-2 div.sk-text-repr-fallback {display: none;}</style><div id=\"sk-container-id-2\" class=\"sk-top-container\"><div class=\"sk-text-repr-fallback\"><pre>LogisticRegression(max_iter=5000, verbose=1)</pre><b>In a Jupyter environment, please rerun this cell to show the HTML representation or trust the notebook. <br />On GitHub, the HTML representation is unable to render, please try loading this page with nbviewer.org.</b></div><div class=\"sk-container\" hidden><div class=\"sk-item\"><div class=\"sk-estimator sk-toggleable\"><input class=\"sk-toggleable__control sk-hidden--visually\" id=\"sk-estimator-id-2\" type=\"checkbox\" checked><label for=\"sk-estimator-id-2\" class=\"sk-toggleable__label sk-toggleable__label-arrow\">LogisticRegression</label><div class=\"sk-toggleable__content\"><pre>LogisticRegression(max_iter=5000, verbose=1)</pre></div></div></div></div></div>"
            ]
          },
          "metadata": {},
          "execution_count": 24
        }
      ]
    },
    {
      "cell_type": "markdown",
      "source": [
        "# extract accuracy"
      ],
      "metadata": {
        "id": "6dXklFr99e0c"
      }
    },
    {
      "cell_type": "code",
      "source": [
        "# Predict on test set\n",
        "y_pred = model.predict(X_test)\n",
        "\n",
        "# Calculate metrics\n",
        "accuracy = accuracy_score(y_test, y_pred)\n",
        "precision = precision_score(y_test, y_pred, average='weighted')\n",
        "recall = recall_score(y_test, y_pred, average='weighted')\n",
        "f1 = f1_score(y_test, y_pred, average='weighted')\n",
        "conf_matrix = confusion_matrix(y_test, y_pred)\n",
        "\n",
        "# Display metrics\n",
        "print(f\"Accuracy: {accuracy * 100:.2f}%\")\n",
        "print(f\"Precision: {precision * 100:.2f}%\")\n",
        "print(f\"Recall: {recall * 100:.2f}%\")\n",
        "print(f\"F1 Score: {f1 * 100:.2f}%\")\n",
        "\n",
        "# Plot confusion matrix\n",
        "plt.figure(figsize=(8, 6))\n",
        "sns.heatmap(conf_matrix, annot=True, fmt='d', cmap='Blues', xticklabels=[0, 1, 2], yticklabels=[0, 1, 2])\n",
        "plt.xlabel('Predicted Label')\n",
        "plt.ylabel('True Label')\n",
        "plt.title('Confusion Matrix')\n",
        "plt.show()"
      ],
      "metadata": {
        "colab": {
          "base_uri": "https://localhost:8080/",
          "height": 633
        },
        "id": "OadMxhDY7eZm",
        "outputId": "24b04952-3e25-4677-8b57-11434aaa5701"
      },
      "execution_count": null,
      "outputs": [
        {
          "output_type": "stream",
          "name": "stdout",
          "text": [
            "Accuracy: 85.78%\n",
            "Precision: 85.08%\n",
            "Recall: 85.78%\n",
            "F1 Score: 85.40%\n"
          ]
        },
        {
          "output_type": "display_data",
          "data": {
            "text/plain": [
              "<Figure size 800x600 with 2 Axes>"
            ],
            "image/png": "[encoded data removed]"
          },
          "metadata": {}
        }
      ]
    },
    {
      "cell_type": "markdown",
      "source": [
        "# predict individually"
      ],
      "metadata": {
        "id": "iHSF-MljGvwe"
      }
    },
    {
      "cell_type": "code",
      "source": [
        "# print(X_test.shape)\n",
        "# print(X_test)\n",
        "# Predict on test set\n",
        "# image = imread(\"/content/LCC_FASD_training/real2/FT720P_id2_s0_105.png\")\n",
        "# image = imread(\"/content/LCC_FASD_training/spoof2/FT720P_G780_REDMI4X_id1_s1_175.png\")\n",
        "# image = imread(\"/content/LCC_FASD_training/spoof2/FT720P_G780_REDMI4X_id4_s0_30.png\")\n",
        "# image = imread(\"/content/LCC_FASD_training/real2/FT720P_id7_s0_30.png\")\n",
        "# image = imread(\"/content/3.jpg\")\n",
        "image = resize_image(\"/content/6.jpg\" , best_size)\n",
        "lbp_features = extract_lbp_features(image)\n",
        "freq_features = extract_frequency_features(image)\n",
        "combined_features = np.concatenate((lbp_features, freq_features))\n",
        "# print(np.array(1,combined_features).shape)\n",
        "y_pred = model.predict([combined_features])\n",
        "print(y_pred)\n",
        "\n",
        "# Calculate metrics\n",
        "# accuracy = accuracy_score(y_test, y_pred)\n",
        "# precision = precision_score(y_test, y_pred, average='weighted')\n",
        "# recall = recall_score(y_test, y_pred, average='weighted')\n",
        "# f1 = f1_score(y_test, y_pred, average='weighted')\n",
        "# conf_matrix = confusion_matrix(y_test, y_pred)\n",
        "\n",
        "# # Display metrics\n",
        "# print(f\"Accuracy: {accuracy * 100:.2f}%\")\n",
        "# print(f\"Precision: {precision * 100:.2f}%\")\n",
        "# print(f\"Recall: {recall * 100:.2f}%\")\n",
        "# print(f\"F1 Score: {f1 * 100:.2f}%\")\n",
        "\n",
        "# # Plot confusion matrix\n",
        "# plt.figure(figsize=(8, 6))\n",
        "# sns.heatmap(conf_matrix, annot=True, fmt='d', cmap='Blues', xticklabels=[0, 1, 2], yticklabels=[0, 1, 2])\n",
        "# plt.xlabel('Predicted Label')\n",
        "# plt.ylabel('True Label')\n",
        "# plt.title('Confusion Matrix')\n",
        "# plt.show()\n",
        "# Visualize some images with their predicted labels\n",
        "def visualize_predictions(images, labels, predictions, num_images=10):\n",
        "    plt.figure(figsize=(12, 12))\n",
        "    for i in range(num_images):\n",
        "        plt.subplot(5, 5, i + 1)\n",
        "        plt.imshow(images[i], cmap='gray')\n",
        "        plt.title(f\"True: {labels[i]}, Pred: {predictions[i]}\")\n",
        "        plt.axis('off')\n",
        "    plt.show()\n",
        "\n",
        "# visualize_predictions(X_test, y_test, y_pred)\n",
        "# print()\n"
      ],
      "metadata": {
        "colab": {
          "base_uri": "https://localhost:8080/"
        },
        "id": "MfzgxTC2FaT1",
        "outputId": "a3a65157-3823-4bab-bbd2-9a95c46fb100"
      },
      "execution_count": null,
      "outputs": [
        {
          "output_type": "stream",
          "name": "stdout",
          "text": [
            "[1]\n"
          ]
        }
      ]
    },
    {
      "cell_type": "code",
      "source": [
        "from PIL import Image\n",
        "\n",
        "def load_user_image():\n",
        "  # Prompt user for image path\n",
        "  image_path = \"/content/real2/real_221.png\"\n",
        "  # Load the image using PIL\n",
        "  image = Image.open(image_path)#.convert('L')  # Convert to grayscale\n",
        "  return np.array(image)\n",
        "\n",
        "def load_user_image_data():\n",
        "  image = load_user_image()\n",
        "  lbp_features = extract_lbp_features(image)\n",
        "  # If using frequency features, uncomment and combine\n",
        "  # freq_features = extract_frequency_features(image)\n",
        "  # combined_features = np.concatenate((lbp_features, freq_features))\n",
        "  # return np.array([combined_features])\n",
        "  return np.array([lbp_features])\n",
        "\n",
        "# Get user image features\n",
        "user_features = load_user_image_data()\n",
        "\n",
        "# Predict class label\n",
        "predicted_class = clf.predict(user_features)[0]\n",
        "\n",
        "# Map label to class name (optional)\n",
        "class_names = [\"Real\", \"Spoof\"]\n",
        "predicted_class_name = class_names[predicted_class]\n",
        "\n",
        "# Print the result\n",
        "print(f\"Predicted Class: {predicted_class_name}\")\n"
      ],
      "metadata": {
        "colab": {
          "base_uri": "https://localhost:8080/"
        },
        "id": "3oJEVuf8I-fL",
        "outputId": "bc27c1fe-25e1-4bfd-926b-f99217d0831c"
      },
      "execution_count": null,
      "outputs": [
        {
          "output_type": "stream",
          "name": "stdout",
          "text": [
            "Predicted Class: Spoof\n"
          ]
        }
      ]
    },
    {
      "cell_type": "code",
      "source": [
        "!cp -r  /content/real /content/real2\n",
        "!cp -r /content/spoof /content/spoof2"
      ],
      "metadata": {
        "id": "SK-UCX3L8TaB"
      },
      "execution_count": null,
      "outputs": []
    },
    {
      "cell_type": "code",
      "source": [
        "import os\n",
        "import random\n",
        "\n",
        "def delete_random_files(directory_path, delete_ratio):\n",
        "  \"\"\"\n",
        "  Deletes a random selection of files from a directory.\n",
        "\n",
        "  Args:\n",
        "      directory_path: Path to the directory containing files.\n",
        "      delete_ratio: Ratio of files to delete (between 0 and 1).\n",
        "  \"\"\"\n",
        "  files = os.listdir(directory_path)\n",
        "  num_files_to_delete = int(len(files) * delete_ratio)\n",
        "  random.shuffle(files)\n",
        "  files_to_delete = files[:num_files_to_delete]\n",
        "\n",
        "  for file in files_to_delete:\n",
        "    os.remove(os.path.join(directory_path, file))\n",
        "\n",
        "# Example usage (replace \"your_directory\" with the actual path)\n",
        "delete_random_files(\"/content/LCC_FASD_training/real\", 0.9)  # Delete 70% of files\n",
        "delete_random_files(\"/content/LCC_FASD_training/spoof\", 0.9)  # Delete 70% of files\n"
      ],
      "metadata": {
        "id": "glezZs9w8PbP"
      },
      "execution_count": null,
      "outputs": []
    },
    {
      "cell_type": "code",
      "source": [
        "!cp -r /kaggle/input/lcc-fasd/LCC_FASD/LCC_FASD_training ."
      ],
      "metadata": {
        "id": "DCRh2MM2PXQO"
      },
      "execution_count": null,
      "outputs": []
    }
  ],
  "metadata": {
    "language_info": {
      "name": "python"
    },
    "colab": {
      "provenance": []
    },
    "kernelspec": {
      "name": "python3",
      "display_name": "Python 3"
    }
  },
  "nbformat": 4,
  "nbformat_minor": 0
}